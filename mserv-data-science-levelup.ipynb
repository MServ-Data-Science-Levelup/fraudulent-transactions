{
 "cells": [
  {
   "cell_type": "markdown",
   "id": "633d44b9",
   "metadata": {
    "papermill": {
     "duration": 0.004396,
     "end_time": "2024-10-14T08:36:13.381649",
     "exception": false,
     "start_time": "2024-10-14T08:36:13.377253",
     "status": "completed"
    },
    "tags": []
   },
   "source": [
    "# Team members\n",
    "- Bryce Grahn\n",
    "- Michael Rolle\n",
    "- Werner de jager\n",
    "- Abdul Gany Osman\n",
    "- Lavania Naidoo"
   ]
  },
  {
   "cell_type": "markdown",
   "id": "b4e51be6",
   "metadata": {
    "papermill": {
     "duration": 0.003388,
     "end_time": "2024-10-14T08:36:13.389331",
     "exception": false,
     "start_time": "2024-10-14T08:36:13.385943",
     "status": "completed"
    },
    "tags": []
   },
   "source": [
    "# Introduction\n",
    "The aim of this notebook is undertaking a machine learning investigation on the...."
   ]
  },
  {
   "cell_type": "markdown",
   "id": "4496daf9",
   "metadata": {
    "papermill": {
     "duration": 0.003476,
     "end_time": "2024-10-14T08:36:13.396497",
     "exception": false,
     "start_time": "2024-10-14T08:36:13.393021",
     "status": "completed"
    },
    "tags": []
   },
   "source": [
    "# 1. Imports and installations"
   ]
  },
  {
   "cell_type": "code",
   "execution_count": 1,
   "id": "4d699928",
   "metadata": {
    "execution": {
     "iopub.execute_input": "2024-10-14T08:36:13.405655Z",
     "iopub.status.busy": "2024-10-14T08:36:13.405207Z",
     "iopub.status.idle": "2024-10-14T08:36:34.185605Z",
     "shell.execute_reply": "2024-10-14T08:36:34.184258Z"
    },
    "papermill": {
     "duration": 20.788361,
     "end_time": "2024-10-14T08:36:34.188495",
     "exception": false,
     "start_time": "2024-10-14T08:36:13.400134",
     "status": "completed"
    },
    "tags": []
   },
   "outputs": [],
   "source": [
    "# imports\n",
    "import os\n",
    "import math\n",
    "import numpy as np\n",
    "import scipy as sp\n",
    "import pandas as pd\n",
    "import sympy as sym\n",
    "import seaborn as sns\n",
    "import sklearn as sk\n",
    "import tensorflow as tf\n",
    "import tensorflow_decision_forests as tfdf\n",
    "import matplotlib.pyplot as plt\n",
    "\n",
    "from sklearn.datasets import fetch_openml\n",
    "from sklearn.model_selection import train_test_split\n",
    "from sklearn.metrics import mean_squared_error, accuracy_score, log_loss\n",
    "from sklearn.linear_model import LinearRegression, SGDRegressor, SGDClassifier, RidgeCV, LassoCV\n",
    "from sklearn.preprocessing import StandardScaler, OrdinalEncoder, OneHotEncoder\n",
    "from sklearn.feature_selection import SelectKBest, f_regression, mutual_info_regression\n",
    "from sklearn.neighbors import KNeighborsRegressor\n",
    "from sklearn.decomposition import PCA\n",
    "from sklearn.pipeline import make_pipeline\n",
    "from sklearn.neural_network import MLPClassifier\n",
    "from sklearn.ensemble import RandomForestRegressor\n",
    "from sklearn.ensemble import GradientBoostingRegressor\n",
    "\n",
    "from itertools import chain\n",
    "from scipy.stats.mstats import winsorize\n",
    "\n",
    "# define plt settings \n",
    "plt.rcParams[\"font.size\"] = 20 \n",
    "plt.rcParams[\"axes.labelsize\"] = 20 \n",
    "plt.rcParams[\"xtick.labelsize\"] = 20 \n",
    "plt.rcParams[\"ytick.labelsize\"] = 20 \n",
    "plt.rcParams[\"legend.fontsize\"] = 20 \n",
    "plt.rcParams[\"figure.figsize\"] = (20,10)\n",
    "\n",
    "# define seaborn settings seaborn\n",
    "sns.set(style=\"ticks\", color_codes=True)\n",
    "sns.set_palette(\"husl\")"
   ]
  },
  {
   "cell_type": "markdown",
   "id": "1efc02f3",
   "metadata": {
    "papermill": {
     "duration": 0.003438,
     "end_time": "2024-10-14T08:36:34.195859",
     "exception": false,
     "start_time": "2024-10-14T08:36:34.192421",
     "status": "completed"
    },
    "tags": []
   },
   "source": [
    "## 1.1 Import Dataset"
   ]
  },
  {
   "cell_type": "code",
   "execution_count": 2,
   "id": "39d4f233",
   "metadata": {
    "execution": {
     "iopub.execute_input": "2024-10-14T08:36:34.205265Z",
     "iopub.status.busy": "2024-10-14T08:36:34.204483Z",
     "iopub.status.idle": "2024-10-14T08:36:34.217366Z",
     "shell.execute_reply": "2024-10-14T08:36:34.216116Z"
    },
    "papermill": {
     "duration": 0.020543,
     "end_time": "2024-10-14T08:36:34.220042",
     "exception": false,
     "start_time": "2024-10-14T08:36:34.199499",
     "status": "completed"
    },
    "tags": []
   },
   "outputs": [
    {
     "data": {
      "text/plain": [
       "['transactions_test.csv',\n",
       " 'transactions_train.csv',\n",
       " 'terminals.csv',\n",
       " 'merchants.csv',\n",
       " 'customers.csv']"
      ]
     },
     "execution_count": 2,
     "metadata": {},
     "output_type": "execute_result"
    }
   ],
   "source": [
    "import os\n",
    "os.listdir(\"/kaggle/input/payments-hackathon-rojones/Payments Fraud DataSet/\")"
   ]
  },
  {
   "cell_type": "code",
   "execution_count": 3,
   "id": "1330ef97",
   "metadata": {
    "execution": {
     "iopub.execute_input": "2024-10-14T08:36:34.230288Z",
     "iopub.status.busy": "2024-10-14T08:36:34.229339Z",
     "iopub.status.idle": "2024-10-14T08:36:35.881855Z",
     "shell.execute_reply": "2024-10-14T08:36:35.880486Z"
    },
    "papermill": {
     "duration": 1.660557,
     "end_time": "2024-10-14T08:36:35.884805",
     "exception": false,
     "start_time": "2024-10-14T08:36:34.224248",
     "status": "completed"
    },
    "tags": []
   },
   "outputs": [],
   "source": [
    "url = '/kaggle/input/payments-hackathon-rojones/Payments Fraud DataSet/'\n",
    "\n",
    "customers_df = pd.read_csv(url + \"customers.csv\", index_col = 'CUSTOMER_ID')\n",
    "terminals_df = pd.read_csv(url + \"terminals.csv\", index_col = 'TERMINAL_ID')\n",
    "merchants_df = pd.read_csv(url + \"merchants.csv\", index_col = 'MERCHANT_ID')\n",
    "transactions_test_df = pd.read_csv(url + \"transactions_test.csv\", index_col = 'TX_ID')\n",
    "transactions_train_df = pd.read_csv(url + \"transactions_test.csv\", index_col = 'TX_ID')"
   ]
  },
  {
   "cell_type": "markdown",
   "id": "adbe6f0b",
   "metadata": {
    "papermill": {
     "duration": 0.003891,
     "end_time": "2024-10-14T08:36:35.893018",
     "exception": false,
     "start_time": "2024-10-14T08:36:35.889127",
     "status": "completed"
    },
    "tags": []
   },
   "source": [
    "## 1.2 Display datasets"
   ]
  },
  {
   "cell_type": "code",
   "execution_count": 4,
   "id": "e0409824",
   "metadata": {
    "execution": {
     "iopub.execute_input": "2024-10-14T08:36:35.902453Z",
     "iopub.status.busy": "2024-10-14T08:36:35.902021Z",
     "iopub.status.idle": "2024-10-14T08:36:36.173907Z",
     "shell.execute_reply": "2024-10-14T08:36:36.172401Z"
    },
    "papermill": {
     "duration": 0.279536,
     "end_time": "2024-10-14T08:36:36.176362",
     "exception": false,
     "start_time": "2024-10-14T08:36:35.896826",
     "status": "completed"
    },
    "tags": []
   },
   "outputs": [
    {
     "name": "stdout",
     "output_type": "stream",
     "text": [
      "Customers dataset:\n",
      "----------------------\n",
      "<class 'pandas.core.frame.DataFrame'>\n",
      "Index: 50000 entries, 7894622031164826 to 5987355644780185\n",
      "Data columns (total 2 columns):\n",
      " #   Column         Non-Null Count  Dtype  \n",
      "---  ------         --------------  -----  \n",
      " 0   x_customer_id  50000 non-null  float64\n",
      " 1   y_customer_id  50000 non-null  float64\n",
      "dtypes: float64(2)\n",
      "memory usage: 1.1 MB\n"
     ]
    },
    {
     "data": {
      "text/plain": [
       "None"
      ]
     },
     "metadata": {},
     "output_type": "display_data"
    },
    {
     "name": "stdout",
     "output_type": "stream",
     "text": [
      "\n",
      "terminals dataset:\n",
      "----------------------\n",
      "<class 'pandas.core.frame.DataFrame'>\n",
      "Index: 5000 entries, 9754224 to 14982407\n",
      "Data columns (total 2 columns):\n",
      " #   Column          Non-Null Count  Dtype  \n",
      "---  ------          --------------  -----  \n",
      " 0   x_terminal_id   5000 non-null   float64\n",
      " 1   y_terminal__id  5000 non-null   float64\n",
      "dtypes: float64(2)\n",
      "memory usage: 117.2 KB\n"
     ]
    },
    {
     "data": {
      "text/plain": [
       "None"
      ]
     },
     "metadata": {},
     "output_type": "display_data"
    },
    {
     "name": "stdout",
     "output_type": "stream",
     "text": [
      "\n",
      "merchants dataset:\n",
      "----------------------\n",
      "<class 'pandas.core.frame.DataFrame'>\n",
      "Index: 30452 entries, 1b7557bb-208b-4fdc-ba91-eca98298541a to cb5826ba-6a40-4f7f-9b53-ae7f3e35e740\n",
      "Data columns (total 20 columns):\n",
      " #   Column                              Non-Null Count  Dtype \n",
      "---  ------                              --------------  ----- \n",
      " 0   BUSINESS_TYPE                       30452 non-null  object\n",
      " 1   MCC_CODE                            30452 non-null  int64 \n",
      " 2   LEGAL_NAME                          30452 non-null  object\n",
      " 3   FOUNDATION_DATE                     30452 non-null  object\n",
      " 4   TAX_EXCEMPT_INDICATOR               30452 non-null  bool  \n",
      " 5   OUTLET_TYPE                         30452 non-null  object\n",
      " 6   ACTIVE_FROM                         30452 non-null  object\n",
      " 7   TRADING_FROM                        30452 non-null  object\n",
      " 8   ANNUAL_TURNOVER_CARD                30452 non-null  int64 \n",
      " 9   ANNUAL_TURNOVER                     30452 non-null  int64 \n",
      " 10  AVERAGE_TICKET_SALE_AMOUNT          30452 non-null  int64 \n",
      " 11  PAYMENT_PERCENTAGE_FACE_TO_FACE     30452 non-null  int64 \n",
      " 12  PAYMENT_PERCENTAGE_ECOM             30452 non-null  int64 \n",
      " 13  PAYMENT_PERCENTAGE_MOTO             30452 non-null  int64 \n",
      " 14  DEPOSIT_REQUIRED_PERCENTAGE         30452 non-null  int64 \n",
      " 15  DEPOSIT_PERCENTAGE                  30452 non-null  int64 \n",
      " 16  DELIVERY_SAME_DAYS_PERCENTAGE       30452 non-null  int64 \n",
      " 17  DELIVERY_WEEK_ONE_PERCENTAGE        30452 non-null  int64 \n",
      " 18  DELIVERY_WEEK_TWO_PERCENTAGE        30452 non-null  int64 \n",
      " 19  DELIVERY_OVER_TWO_WEEKS_PERCENTAGE  30452 non-null  int64 \n",
      "dtypes: bool(1), int64(13), object(6)\n",
      "memory usage: 4.7+ MB\n"
     ]
    },
    {
     "data": {
      "text/plain": [
       "None"
      ]
     },
     "metadata": {},
     "output_type": "display_data"
    },
    {
     "name": "stdout",
     "output_type": "stream",
     "text": [
      "\n",
      "transactions_test dataset:\n",
      "----------------------\n",
      "<class 'pandas.core.frame.DataFrame'>\n",
      "Index: 71139 entries, 09324d812ba7915c3f791e973db293ad50db70d8 to 4af7a6f698e30cecc97ac5254315c97db971bf56\n",
      "Data columns (total 20 columns):\n",
      " #   Column                                 Non-Null Count  Dtype  \n",
      "---  ------                                 --------------  -----  \n",
      " 0   TX_TS                                  71139 non-null  object \n",
      " 1   CUSTOMER_ID                            71139 non-null  int64  \n",
      " 2   TERMINAL_ID                            71139 non-null  int64  \n",
      " 3   TX_AMOUNT                              71139 non-null  float64\n",
      " 4   TRANSACTION_GOODS_AND_SERVICES_AMOUNT  71139 non-null  float64\n",
      " 5   TRANSACTION_CASHBACK_AMOUNT            71139 non-null  float64\n",
      " 6   CARD_EXPIRY_DATE                       71139 non-null  object \n",
      " 7   CARD_DATA                              71139 non-null  object \n",
      " 8   CARD_BRAND                             71139 non-null  object \n",
      " 9   TRANSACTION_TYPE                       71139 non-null  object \n",
      " 10  TRANSACTION_STATUS                     71139 non-null  object \n",
      " 11  FAILURE_CODE                           1130 non-null   object \n",
      " 12  FAILURE_REASON                         1130 non-null   object \n",
      " 13  TRANSACTION_CURRENCY                   71139 non-null  object \n",
      " 14  CARD_COUNTRY_CODE                      71139 non-null  object \n",
      " 15  MERCHANT_ID                            71138 non-null  object \n",
      " 16  IS_RECURRING_TRANSACTION               71139 non-null  bool   \n",
      " 17  ACQUIRER_ID                            71139 non-null  object \n",
      " 18  CARDHOLDER_AUTH_METHOD                 71139 non-null  object \n",
      " 19  ID_JOIN                                71139 non-null  float64\n",
      "dtypes: bool(1), float64(4), int64(2), object(13)\n",
      "memory usage: 10.9+ MB\n"
     ]
    },
    {
     "data": {
      "text/plain": [
       "None"
      ]
     },
     "metadata": {},
     "output_type": "display_data"
    },
    {
     "name": "stdout",
     "output_type": "stream",
     "text": [
      "\n",
      "transactions_train dataset:\n",
      "----------------------\n",
      "<class 'pandas.core.frame.DataFrame'>\n",
      "Index: 71139 entries, 09324d812ba7915c3f791e973db293ad50db70d8 to 4af7a6f698e30cecc97ac5254315c97db971bf56\n",
      "Data columns (total 20 columns):\n",
      " #   Column                                 Non-Null Count  Dtype  \n",
      "---  ------                                 --------------  -----  \n",
      " 0   TX_TS                                  71139 non-null  object \n",
      " 1   CUSTOMER_ID                            71139 non-null  int64  \n",
      " 2   TERMINAL_ID                            71139 non-null  int64  \n",
      " 3   TX_AMOUNT                              71139 non-null  float64\n",
      " 4   TRANSACTION_GOODS_AND_SERVICES_AMOUNT  71139 non-null  float64\n",
      " 5   TRANSACTION_CASHBACK_AMOUNT            71139 non-null  float64\n",
      " 6   CARD_EXPIRY_DATE                       71139 non-null  object \n",
      " 7   CARD_DATA                              71139 non-null  object \n",
      " 8   CARD_BRAND                             71139 non-null  object \n",
      " 9   TRANSACTION_TYPE                       71139 non-null  object \n",
      " 10  TRANSACTION_STATUS                     71139 non-null  object \n",
      " 11  FAILURE_CODE                           1130 non-null   object \n",
      " 12  FAILURE_REASON                         1130 non-null   object \n",
      " 13  TRANSACTION_CURRENCY                   71139 non-null  object \n",
      " 14  CARD_COUNTRY_CODE                      71139 non-null  object \n",
      " 15  MERCHANT_ID                            71138 non-null  object \n",
      " 16  IS_RECURRING_TRANSACTION               71139 non-null  bool   \n",
      " 17  ACQUIRER_ID                            71139 non-null  object \n",
      " 18  CARDHOLDER_AUTH_METHOD                 71139 non-null  object \n",
      " 19  ID_JOIN                                71139 non-null  float64\n",
      "dtypes: bool(1), float64(4), int64(2), object(13)\n",
      "memory usage: 10.9+ MB\n"
     ]
    },
    {
     "data": {
      "text/plain": [
       "None"
      ]
     },
     "metadata": {},
     "output_type": "display_data"
    }
   ],
   "source": [
    "print(\"Customers dataset:\")\n",
    "print(\"----------------------\")\n",
    "display(customers_df.info())\n",
    "print(\"\\nterminals dataset:\")\n",
    "print(\"----------------------\")\n",
    "display(terminals_df.info())\n",
    "print(\"\\nmerchants dataset:\")\n",
    "print(\"----------------------\")\n",
    "display(merchants_df.info())\n",
    "print(\"\\ntransactions_test dataset:\")\n",
    "print(\"----------------------\")\n",
    "display(transactions_test_df.info())\n",
    "print(\"\\ntransactions_train dataset:\")\n",
    "print(\"----------------------\")\n",
    "display(transactions_train_df.info())"
   ]
  }
 ],
 "metadata": {
  "kaggle": {
   "accelerator": "none",
   "dataSources": [
    {
     "databundleVersionId": 9822803,
     "sourceId": 58079,
     "sourceType": "competition"
    }
   ],
   "dockerImageVersionId": 30786,
   "isGpuEnabled": false,
   "isInternetEnabled": true,
   "language": "python",
   "sourceType": "notebook"
  },
  "kernelspec": {
   "display_name": "Python 3",
   "language": "python",
   "name": "python3"
  },
  "language_info": {
   "codemirror_mode": {
    "name": "ipython",
    "version": 3
   },
   "file_extension": ".py",
   "mimetype": "text/x-python",
   "name": "python",
   "nbconvert_exporter": "python",
   "pygments_lexer": "ipython3",
   "version": "3.10.14"
  },
  "papermill": {
   "default_parameters": {},
   "duration": 28.531668,
   "end_time": "2024-10-14T08:36:38.827272",
   "environment_variables": {},
   "exception": null,
   "input_path": "__notebook__.ipynb",
   "output_path": "__notebook__.ipynb",
   "parameters": {},
   "start_time": "2024-10-14T08:36:10.295604",
   "version": "2.6.0"
  }
 },
 "nbformat": 4,
 "nbformat_minor": 5
}
